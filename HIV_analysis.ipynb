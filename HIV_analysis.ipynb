{
 "cells": [
  {
   "cell_type": "code",
   "execution_count": 1,
   "metadata": {},
   "outputs": [],
   "source": [
    "%matplotlib notebook\n",
    "import scipy\n",
    "import numpy\n",
    "from IPython.display import display, HTML\n",
    "import statsmodels.api as sm\n",
    "import statsmodels.formula.api as smf\n",
    "import seaborn as sns\n",
    "import re\n",
    "import matplotlib.patches as mpatches\n",
    "from scipy.cluster import hierarchy\n",
    "import pylab\n",
    "import pandas"
   ]
  },
  {
   "cell_type": "code",
   "execution_count": 2,
   "metadata": {},
   "outputs": [
    {
     "name": "stderr",
     "output_type": "stream",
     "text": [
      "c:\\users\\tgb\\data\\ukbb\\scripts\\venv\\lib\\site-packages\\IPython\\core\\interactiveshell.py:3057: DtypeWarning: Columns (816) have mixed types. Specify dtype option on import or set low_memory=False.\n",
      "  interactivity=interactivity, compiler=compiler, result=result)\n"
     ]
    }
   ],
   "source": [
    "full_activity = pandas.read_csv(\"../processed/activity_features_aggregate.txt\", index_col=0, sep=\"\\t\")\n",
    "activity_summary = pandas.read_csv(\"../processed/activity_summary_aggregate.txt\", index_col=0, sep=\"\\t\")\n",
    "ukbb = pandas.read_hdf(\"../processed/ukbb_data_table.h5\")"
   ]
  },
  {
   "cell_type": "code",
   "execution_count": 3,
   "metadata": {},
   "outputs": [],
   "source": [
    "ukbb.columns = ukbb.columns.str.replace(\"[,:/]\",\"_\") # Can't use special characters easily"
   ]
  },
  {
   "cell_type": "code",
   "execution_count": 4,
   "metadata": {},
   "outputs": [],
   "source": [
    "# Remove the activity variables that we don't want to use\n",
    "bad_columns = [\"_IV$\", \"_IS$\", \"^temp_\", \"^light_\"]\n",
    "good_columns = []\n",
    "for c in full_activity.columns:\n",
    "    fail = False\n",
    "    for bad in bad_columns:\n",
    "        if re.search(bad, c):\n",
    "            fail = True\n",
    "    if not fail:\n",
    "        good_columns.append(c)\n",
    "activity = full_activity[good_columns]"
   ]
  },
  {
   "cell_type": "code",
   "execution_count": 5,
   "metadata": {},
   "outputs": [
    {
     "name": "stdout",
     "output_type": "stream",
     "text": [
      "Dropping 11363 entries out of 103688 due to bad quality or wear-time\n"
     ]
    },
    {
     "name": "stderr",
     "output_type": "stream",
     "text": [
      "c:\\users\\tgb\\data\\ukbb\\scripts\\venv\\lib\\site-packages\\ipykernel_launcher.py:5: UserWarning: Boolean Series key will be reindexed to match DataFrame index.\n",
      "  \"\"\"\n"
     ]
    }
   ],
   "source": [
    "# drop activity for people who fail basic QC\n",
    "[c for c in activity_summary.columns if 'quality' in c]\n",
    "okay = activity_summary['quality-goodCalibration'].astype(bool) & (~activity_summary['quality-daylightSavingsCrossover'].astype(bool)) & (activity_summary['quality-goodWearTime'].astype(bool))\n",
    "activity.columns = activity.columns.str.replace(\"-\",\"_\") # Can't use special characters easily\n",
    "activity = activity[okay]\n",
    "print(f\"Dropping {(~okay).sum()} entries out of {len(okay)} due to bad quality or wear-time\")"
   ]
  },
  {
   "cell_type": "code",
   "execution_count": 6,
   "metadata": {},
   "outputs": [
    {
     "name": "stdout",
     "output_type": "stream",
     "text": [
      "Data starting size: (92325, 62)\n"
     ]
    }
   ],
   "source": [
    "data = activity.copy()\n",
    "data = data.join(activity_summary[activity_summary.columns[activity_summary.columns.str.endswith(\"overall-avg\")]], how=\"left\")\n",
    "covariates = [\"sex\",\n",
    "              #\"ethnicity\",\n",
    "              #\"overall_health\",\n",
    "              #\"household_income\",\n",
    "              #\"smoking\",\n",
    "              \"birth_year\",\n",
    "              #\"BMI\",\n",
    "               #'education_Prefer_not_to_answer', # This answer causes problems for some reason\n",
    "               #'education_None_of_the_above',\n",
    "               #'education_College_or_University_degree',\n",
    "               #'education_A_levels/AS_levels_or_equivalent', \n",
    "               #'education_O_levels/GCSEs_or_equivalent',\n",
    "               #'education_CSEs_or_equivalent',\n",
    "               #'education_NVQ_or_HND_or_HNC_or_equivalent',\n",
    "               #'education_Other_professional_qualifications_eg:_nursing,_teaching',\n",
    "                ]\n",
    "\n",
    "print(f\"Data starting size: {data.shape}\")"
   ]
  },
  {
   "cell_type": "code",
   "execution_count": 7,
   "metadata": {},
   "outputs": [],
   "source": [
    "icd10_entries = pandas.read_csv(\"../processed/ukbb_icd10_entries.txt\", sep=\"\\t\")\n",
    "# Select our cohort from all the entries\n",
    "icd10_entries.rename(columns={\"ICD10_code\": \"ICD10\"}, inplace=True)\n",
    "\n",
    "### and the ICD9 data\n",
    "icd9_entries = pandas.read_csv(\"../processed/ukbb_icd9_entries.txt\", sep=\"\\t\")\n",
    "# Select our cohort from all the entries\n",
    "icd9_entries.rename(columns={\"ICD9_code\": \"ICD9\"}, inplace=True)"
   ]
  },
  {
   "cell_type": "code",
   "execution_count": 8,
   "metadata": {},
   "outputs": [],
   "source": [
    "self_reported = pandas.read_csv(\"../processed/ukbb_self_reported_conditions.txt\", sep=\"\\t\", dtype={\"condition_code\":int})\n",
    "data_fields = pandas.read_csv(\"../Data_Dictionary_Showcase.csv\", index_col=\"FieldID\")\n",
    "codings = pandas.read_csv(\"../Codings_Showcase.csv\", dtype={\"Coding\": int})"
   ]
  },
  {
   "cell_type": "code",
   "execution_count": 9,
   "metadata": {},
   "outputs": [],
   "source": [
    "SELF_REPORTED_CONDITION_FIELD = 20002\n",
    "condition_code_to_meaning = codings[codings.Coding  == data_fields.loc[20002].Coding].drop_duplicates(subset=[\"Value\"], keep=False).set_index(\"Value\")\n",
    "self_reported[\"condition\"] = self_reported.condition_code.astype(str).map(condition_code_to_meaning.Meaning)"
   ]
  },
  {
   "cell_type": "code",
   "execution_count": 10,
   "metadata": {},
   "outputs": [
    {
     "name": "stdout",
     "output_type": "stream",
     "text": [
      "Identified 79 cases with actigraphy out of 491 with HIV throughout UKBB\n"
     ]
    }
   ],
   "source": [
    "## Select those with HIV in their ICD10 status\n",
    "\n",
    "HIV_CODES = [\"B20\", \"B21\", \"B22\", \"B23\", \"B24\"]\n",
    "hiv_ids = set()\n",
    "for code in HIV_CODES:\n",
    "    ids = icd10_entries[icd10_entries.ICD10.str.startswith(code)].ID.unique()\n",
    "    hiv_ids.update(ids)\n",
    "\n",
    "self_reported_hiv_ids = set(self_reported[self_reported.condition.isin([\"hiv/aids\"])].ID.unique())\n",
    "hiv_ids.update(self_reported_hiv_ids)\n",
    "\n",
    "data['hiv_case'] = data.index.isin(hiv_ids)\n",
    "\n",
    "print(f\"Identified {data.hiv_case.sum()} cases with actigraphy out of {len(hiv_ids)} with HIV throughout UKBB\")"
   ]
  },
  {
   "cell_type": "code",
   "execution_count": 21,
   "metadata": {},
   "outputs": [],
   "source": [
    "### Generate a summary file of the IDs by HIV status as well as basic covariates and QC for their actigraphy\n",
    "summary_data = data[['hiv_case']].join(ukbb[['birth_year', 'sex']]).sort_values('hiv_case', ascending=False)\n",
    "summary_data.index.rename(\"ID\", inplace=True)"
   ]
  },
  {
   "cell_type": "code",
   "execution_count": 22,
   "metadata": {},
   "outputs": [],
   "source": [
    "summary_data.to_csv(\"../processed/HIV/ID_list.txt\", sep=\"\\t\")"
   ]
  },
  {
   "cell_type": "code",
   "execution_count": null,
   "metadata": {},
   "outputs": [],
   "source": []
  }
 ],
 "metadata": {
  "kernelspec": {
   "display_name": "Python 3",
   "language": "python",
   "name": "python3"
  },
  "language_info": {
   "codemirror_mode": {
    "name": "ipython",
    "version": 3
   },
   "file_extension": ".py",
   "mimetype": "text/x-python",
   "name": "python",
   "nbconvert_exporter": "python",
   "pygments_lexer": "ipython3",
   "version": "3.6.6"
  }
 },
 "nbformat": 4,
 "nbformat_minor": 2
}
