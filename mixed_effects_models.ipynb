{
 "cells": [
  {
   "cell_type": "code",
   "execution_count": 8,
   "metadata": {},
   "outputs": [
    {
     "name": "stdout",
     "output_type": "stream",
     "text": [
      "Using matplotlib backend: nbAgg\n",
      "Populating the interactive namespace from numpy and matplotlib\n"
     ]
    }
   ],
   "source": [
    "%matplotlib notebook\n",
    "%pylab\n",
    "import scipy\n",
    "import numpy\n",
    "from IPython.display import display, HTML\n",
    "import statsmodels.api as sm\n",
    "import statsmodels.formula.api as smf"
   ]
  },
  {
   "cell_type": "code",
   "execution_count": 3,
   "metadata": {},
   "outputs": [],
   "source": [
    "import pandas\n",
    "activity = pandas.read_csv(\"../processed/activity_features_aggregate.txt\", index_col=0, sep=\"\\t\")\n",
    "ukbb = pandas.read_hdf(\"../processed/ukbb_data_table.h5\")\n",
    "mental_health = pandas.read_hdf(\"../processed/ukbb_mental_health.h5\")\n",
    "by_day = pandas.read_csv(\"../processed/activity_by_day.txt\", index_col=0, sep=\"\\t\")"
   ]
  },
  {
   "cell_type": "code",
   "execution_count": 16,
   "metadata": {},
   "outputs": [],
   "source": [
    "# Down-sample for speed and testing\n",
    "import numpy\n",
    "numpy.random.seed(0)\n",
    "selected_IDs = numpy.random.choice(by_day.ID.unique(), size=10_000, replace=False)\n",
    "data = by_day[by_day.ID.map(lambda x: x in selected_IDs)].copy()"
   ]
  },
  {
   "cell_type": "code",
   "execution_count": 54,
   "metadata": {},
   "outputs": [
    {
     "data": {
      "text/plain": [
       "count      63728\n",
       "unique         2\n",
       "top       Female\n",
       "freq       36129\n",
       "Name: sex, dtype: object"
      ]
     },
     "execution_count": 54,
     "metadata": {},
     "output_type": "execute_result"
    }
   ],
   "source": [
    "data['sex'] = data.ID.map(ukbb.sex)\n",
    "data['day'] = data.index\n",
    "data['day_of_week'] = pandas.Categorical(pandas.to_datetime(data.index).dayofweek, categories=range(7))\n",
    "data.sex.describe()"
   ]
  },
  {
   "cell_type": "code",
   "execution_count": 66,
   "metadata": {},
   "outputs": [
    {
     "ename": "ValueError",
     "evalue": "operands could not be broadcast together with shapes (63728,) (1,2) ",
     "output_type": "error",
     "traceback": [
      "\u001b[1;31m---------------------------------------------------------------------------\u001b[0m",
      "\u001b[1;31mValueError\u001b[0m                                Traceback (most recent call last)",
      "\u001b[1;32m<ipython-input-66-6b2004a52a67>\u001b[0m in \u001b[0;36m<module>\u001b[1;34m\u001b[0m\n\u001b[0;32m      3\u001b[0m \u001b[1;31m# Sex is non-random covariate\u001b[0m\u001b[1;33m\u001b[0m\u001b[1;33m\u001b[0m\u001b[0m\n\u001b[0;32m      4\u001b[0m \u001b[1;33m\u001b[0m\u001b[0m\n\u001b[1;32m----> 5\u001b[1;33m \u001b[0mmodel\u001b[0m \u001b[1;33m=\u001b[0m \u001b[0msmf\u001b[0m\u001b[1;33m.\u001b[0m\u001b[0mmixedlm\u001b[0m\u001b[1;33m(\u001b[0m\u001b[1;34m\"main_sleep_onset ~ sex + day_of_week\"\u001b[0m\u001b[1;33m,\u001b[0m \u001b[0mgroups\u001b[0m\u001b[1;33m=\u001b[0m\u001b[1;33m[\u001b[0m\u001b[1;33m[\u001b[0m\u001b[1;34m\"day\"\u001b[0m\u001b[1;33m,\u001b[0m \u001b[1;34m\"ID\"\u001b[0m\u001b[1;33m]\u001b[0m\u001b[1;33m]\u001b[0m\u001b[1;33m,\u001b[0m \u001b[0mdata\u001b[0m\u001b[1;33m=\u001b[0m\u001b[0mdata\u001b[0m\u001b[1;33m,\u001b[0m \u001b[0mmissing\u001b[0m\u001b[1;33m=\u001b[0m\u001b[1;34m\"drop\"\u001b[0m\u001b[1;33m)\u001b[0m\u001b[1;33m\u001b[0m\u001b[0m\n\u001b[0m\u001b[0;32m      6\u001b[0m \u001b[0mfit\u001b[0m \u001b[1;33m=\u001b[0m \u001b[0mmodel\u001b[0m\u001b[1;33m.\u001b[0m\u001b[0mfit\u001b[0m\u001b[1;33m(\u001b[0m\u001b[1;33m)\u001b[0m\u001b[1;33m\u001b[0m\u001b[0m\n",
      "\u001b[1;32mc:\\users\\tgb\\data\\ukbb\\scripts\\venv\\lib\\site-packages\\statsmodels\\regression\\mixed_linear_model.py\u001b[0m in \u001b[0;36mfrom_formula\u001b[1;34m(cls, formula, data, re_formula, vc_formula, subset, use_sparse, missing, *args, **kwargs)\u001b[0m\n\u001b[0;32m    897\u001b[0m         \u001b[1;32mif\u001b[0m \u001b[0mmissing\u001b[0m \u001b[1;33m==\u001b[0m \u001b[1;34m'drop'\u001b[0m\u001b[1;33m:\u001b[0m\u001b[1;33m\u001b[0m\u001b[0m\n\u001b[0;32m    898\u001b[0m             data, groups = _handle_missing(data, groups, formula, re_formula,\n\u001b[1;32m--> 899\u001b[1;33m                                            vc_formula)\n\u001b[0m\u001b[0;32m    900\u001b[0m             \u001b[0mmissing\u001b[0m \u001b[1;33m=\u001b[0m \u001b[1;34m'none'\u001b[0m\u001b[1;33m\u001b[0m\u001b[0m\n\u001b[0;32m    901\u001b[0m \u001b[1;33m\u001b[0m\u001b[0m\n",
      "\u001b[1;32mc:\\users\\tgb\\data\\ukbb\\scripts\\venv\\lib\\site-packages\\statsmodels\\regression\\mixed_linear_model.py\u001b[0m in \u001b[0;36m_handle_missing\u001b[1;34m(data, groups, formula, re_formula, vc_formula)\u001b[0m\n\u001b[0;32m   2810\u001b[0m     \u001b[0mii\u001b[0m \u001b[1;33m=\u001b[0m \u001b[0mpd\u001b[0m\u001b[1;33m.\u001b[0m\u001b[0mnotnull\u001b[0m\u001b[1;33m(\u001b[0m\u001b[0mdata\u001b[0m\u001b[1;33m)\u001b[0m\u001b[1;33m.\u001b[0m\u001b[0mall\u001b[0m\u001b[1;33m(\u001b[0m\u001b[1;36m1\u001b[0m\u001b[1;33m)\u001b[0m\u001b[1;33m\u001b[0m\u001b[0m\n\u001b[0;32m   2811\u001b[0m     \u001b[1;32mif\u001b[0m \u001b[0mtype\u001b[0m\u001b[1;33m(\u001b[0m\u001b[0mgroups\u001b[0m\u001b[1;33m)\u001b[0m \u001b[1;33m!=\u001b[0m \u001b[1;34m\"str\"\u001b[0m\u001b[1;33m:\u001b[0m\u001b[1;33m\u001b[0m\u001b[0m\n\u001b[1;32m-> 2812\u001b[1;33m         \u001b[0mii\u001b[0m \u001b[1;33m&=\u001b[0m \u001b[0mpd\u001b[0m\u001b[1;33m.\u001b[0m\u001b[0mnotnull\u001b[0m\u001b[1;33m(\u001b[0m\u001b[0mgroups\u001b[0m\u001b[1;33m)\u001b[0m\u001b[1;33m\u001b[0m\u001b[0m\n\u001b[0m\u001b[0;32m   2813\u001b[0m \u001b[1;33m\u001b[0m\u001b[0m\n\u001b[0;32m   2814\u001b[0m     \u001b[1;32mreturn\u001b[0m \u001b[0mdata\u001b[0m\u001b[1;33m.\u001b[0m\u001b[0mloc\u001b[0m\u001b[1;33m[\u001b[0m\u001b[0mii\u001b[0m\u001b[1;33m,\u001b[0m \u001b[1;33m:\u001b[0m\u001b[1;33m]\u001b[0m\u001b[1;33m,\u001b[0m \u001b[0mgroups\u001b[0m\u001b[1;33m[\u001b[0m\u001b[0mnp\u001b[0m\u001b[1;33m.\u001b[0m\u001b[0masarray\u001b[0m\u001b[1;33m(\u001b[0m\u001b[0mii\u001b[0m\u001b[1;33m)\u001b[0m\u001b[1;33m]\u001b[0m\u001b[1;33m\u001b[0m\u001b[0m\n",
      "\u001b[1;32mc:\\users\\tgb\\data\\ukbb\\scripts\\venv\\lib\\site-packages\\pandas\\core\\ops\\__init__.py\u001b[0m in \u001b[0;36mf\u001b[1;34m(self, other)\u001b[0m\n\u001b[0;32m    823\u001b[0m \u001b[1;33m\u001b[0m\u001b[0m\n\u001b[0;32m    824\u001b[0m         \u001b[1;32mdef\u001b[0m \u001b[0mf\u001b[0m\u001b[1;33m(\u001b[0m\u001b[0mself\u001b[0m\u001b[1;33m,\u001b[0m \u001b[0mother\u001b[0m\u001b[1;33m)\u001b[0m\u001b[1;33m:\u001b[0m\u001b[1;33m\u001b[0m\u001b[0m\n\u001b[1;32m--> 825\u001b[1;33m             \u001b[0mresult\u001b[0m \u001b[1;33m=\u001b[0m \u001b[0mmethod\u001b[0m\u001b[1;33m(\u001b[0m\u001b[0mself\u001b[0m\u001b[1;33m,\u001b[0m \u001b[0mother\u001b[0m\u001b[1;33m)\u001b[0m\u001b[1;33m\u001b[0m\u001b[0m\n\u001b[0m\u001b[0;32m    826\u001b[0m \u001b[1;33m\u001b[0m\u001b[0m\n\u001b[0;32m    827\u001b[0m             \u001b[1;31m# this makes sure that we are aligned like the input\u001b[0m\u001b[1;33m\u001b[0m\u001b[1;33m\u001b[0m\u001b[0m\n",
      "\u001b[1;32mc:\\users\\tgb\\data\\ukbb\\scripts\\venv\\lib\\site-packages\\pandas\\core\\ops\\__init__.py\u001b[0m in \u001b[0;36mwrapper\u001b[1;34m(self, other)\u001b[0m\n\u001b[0;32m   1319\u001b[0m         \u001b[1;31m#   integer dtypes.  Otherwise these are boolean ops\u001b[0m\u001b[1;33m\u001b[0m\u001b[1;33m\u001b[0m\u001b[0m\n\u001b[0;32m   1320\u001b[0m         \u001b[0mfiller\u001b[0m \u001b[1;33m=\u001b[0m \u001b[0mfill_int\u001b[0m \u001b[1;32mif\u001b[0m \u001b[0mis_self_int_dtype\u001b[0m \u001b[1;32mand\u001b[0m \u001b[0mis_other_int_dtype\u001b[0m \u001b[1;32melse\u001b[0m \u001b[0mfill_bool\u001b[0m\u001b[1;33m\u001b[0m\u001b[0m\n\u001b[1;32m-> 1321\u001b[1;33m         \u001b[0mres_values\u001b[0m \u001b[1;33m=\u001b[0m \u001b[0mna_op\u001b[0m\u001b[1;33m(\u001b[0m\u001b[0mself\u001b[0m\u001b[1;33m.\u001b[0m\u001b[0mvalues\u001b[0m\u001b[1;33m,\u001b[0m \u001b[0movalues\u001b[0m\u001b[1;33m)\u001b[0m\u001b[1;33m\u001b[0m\u001b[0m\n\u001b[0m\u001b[0;32m   1322\u001b[0m         \u001b[0munfilled\u001b[0m \u001b[1;33m=\u001b[0m \u001b[0mself\u001b[0m\u001b[1;33m.\u001b[0m\u001b[0m_constructor\u001b[0m\u001b[1;33m(\u001b[0m\u001b[0mres_values\u001b[0m\u001b[1;33m,\u001b[0m \u001b[0mindex\u001b[0m\u001b[1;33m=\u001b[0m\u001b[0mself\u001b[0m\u001b[1;33m.\u001b[0m\u001b[0mindex\u001b[0m\u001b[1;33m,\u001b[0m \u001b[0mname\u001b[0m\u001b[1;33m=\u001b[0m\u001b[0mres_name\u001b[0m\u001b[1;33m)\u001b[0m\u001b[1;33m\u001b[0m\u001b[0m\n\u001b[0;32m   1323\u001b[0m         \u001b[0mfilled\u001b[0m \u001b[1;33m=\u001b[0m \u001b[0mfiller\u001b[0m\u001b[1;33m(\u001b[0m\u001b[0munfilled\u001b[0m\u001b[1;33m)\u001b[0m\u001b[1;33m\u001b[0m\u001b[0m\n",
      "\u001b[1;32mc:\\users\\tgb\\data\\ukbb\\scripts\\venv\\lib\\site-packages\\pandas\\core\\ops\\__init__.py\u001b[0m in \u001b[0;36mna_op\u001b[1;34m(x, y)\u001b[0m\n\u001b[0;32m   1252\u001b[0m     \u001b[1;32mdef\u001b[0m \u001b[0mna_op\u001b[0m\u001b[1;33m(\u001b[0m\u001b[0mx\u001b[0m\u001b[1;33m,\u001b[0m \u001b[0my\u001b[0m\u001b[1;33m)\u001b[0m\u001b[1;33m:\u001b[0m\u001b[1;33m\u001b[0m\u001b[0m\n\u001b[0;32m   1253\u001b[0m         \u001b[1;32mtry\u001b[0m\u001b[1;33m:\u001b[0m\u001b[1;33m\u001b[0m\u001b[0m\n\u001b[1;32m-> 1254\u001b[1;33m             \u001b[0mresult\u001b[0m \u001b[1;33m=\u001b[0m \u001b[0mop\u001b[0m\u001b[1;33m(\u001b[0m\u001b[0mx\u001b[0m\u001b[1;33m,\u001b[0m \u001b[0my\u001b[0m\u001b[1;33m)\u001b[0m\u001b[1;33m\u001b[0m\u001b[0m\n\u001b[0m\u001b[0;32m   1255\u001b[0m         \u001b[1;32mexcept\u001b[0m \u001b[0mTypeError\u001b[0m\u001b[1;33m:\u001b[0m\u001b[1;33m\u001b[0m\u001b[0m\n\u001b[0;32m   1256\u001b[0m             \u001b[1;32massert\u001b[0m \u001b[1;32mnot\u001b[0m \u001b[0misinstance\u001b[0m\u001b[1;33m(\u001b[0m\u001b[0my\u001b[0m\u001b[1;33m,\u001b[0m \u001b[1;33m(\u001b[0m\u001b[0mlist\u001b[0m\u001b[1;33m,\u001b[0m \u001b[0mABCSeries\u001b[0m\u001b[1;33m,\u001b[0m \u001b[0mABCIndexClass\u001b[0m\u001b[1;33m)\u001b[0m\u001b[1;33m)\u001b[0m\u001b[1;33m\u001b[0m\u001b[0m\n",
      "\u001b[1;31mValueError\u001b[0m: operands could not be broadcast together with shapes (63728,) (1,2) "
     ]
    }
   ],
   "source": [
    "# Mixed-effects model\n",
    "# Day and individual are random effects\n",
    "# Sex is non-random covariate\n",
    "\n",
    "model = smf.mixedlm(\"main_sleep_onset ~ sex + day_of_week\", groups=[[\"day\", \"ID\"]], data=data, missing=\"drop\")\n",
    "fit = model.fit()"
   ]
  },
  {
   "cell_type": "code",
   "execution_count": 56,
   "metadata": {},
   "outputs": [
    {
     "data": {
      "text/html": [
       "<table class=\"simpletable\">\n",
       "<tr>\n",
       "       <td>Model:</td>       <td>MixedLM</td> <td>Dependent Variable:</td> <td>main_sleep_onset</td>\n",
       "</tr>\n",
       "<tr>\n",
       "  <td>No. Observations:</td>  <td>60532</td>        <td>Method:</td>             <td>REML</td>      \n",
       "</tr>\n",
       "<tr>\n",
       "     <td>No. Groups:</td>      <td>911</td>         <td>Scale:</td>             <td>2.3254</td>     \n",
       "</tr>\n",
       "<tr>\n",
       "  <td>Min. group size:</td>     <td>1</td>        <td>Likelihood:</td>       <td>-111594.3765</td>  \n",
       "</tr>\n",
       "<tr>\n",
       "  <td>Max. group size:</td>    <td>152</td>       <td>Converged:</td>             <td>Yes</td>      \n",
       "</tr>\n",
       "<tr>\n",
       "  <td>Mean group size:</td>   <td>66.4</td>            <td></td>                   <td></td>        \n",
       "</tr>\n",
       "</table>\n",
       "<table class=\"simpletable\">\n",
       "<tr>\n",
       "          <td></td>          <th>Coef.</th> <th>Std.Err.</th>     <th>z</th>    <th>P>|z|</th> <th>[0.025</th> <th>0.975]</th>\n",
       "</tr>\n",
       "<tr>\n",
       "  <th>Intercept</th>        <td>23.286</td>   <td>0.020</td>  <td>1155.397</td> <td>0.000</td> <td>23.247</td> <td>23.326</td>\n",
       "</tr>\n",
       "<tr>\n",
       "  <th>sex[T.Male]</th>       <td>0.063</td>   <td>0.013</td>    <td>5.046</td>  <td>0.000</td>  <td>0.039</td>  <td>0.088</td>\n",
       "</tr>\n",
       "<tr>\n",
       "  <th>day_of_week[T.1]</th>  <td>0.056</td>   <td>0.028</td>    <td>2.030</td>  <td>0.042</td>  <td>0.002</td>  <td>0.110</td>\n",
       "</tr>\n",
       "<tr>\n",
       "  <th>day_of_week[T.2]</th>  <td>0.077</td>   <td>0.028</td>    <td>2.796</td>  <td>0.005</td>  <td>0.023</td>  <td>0.131</td>\n",
       "</tr>\n",
       "<tr>\n",
       "  <th>day_of_week[T.3]</th>  <td>0.113</td>   <td>0.028</td>    <td>4.097</td>  <td>0.000</td>  <td>0.059</td>  <td>0.168</td>\n",
       "</tr>\n",
       "<tr>\n",
       "  <th>day_of_week[T.4]</th>  <td>0.240</td>   <td>0.028</td>    <td>8.651</td>  <td>0.000</td>  <td>0.185</td>  <td>0.294</td>\n",
       "</tr>\n",
       "<tr>\n",
       "  <th>day_of_week[T.5]</th>  <td>0.328</td>   <td>0.028</td>   <td>11.876</td>  <td>0.000</td>  <td>0.274</td>  <td>0.382</td>\n",
       "</tr>\n",
       "<tr>\n",
       "  <th>day_of_week[T.6]</th>  <td>0.016</td>   <td>0.028</td>    <td>0.578</td>  <td>0.563</td> <td>-0.038</td>  <td>0.070</td>\n",
       "</tr>\n",
       "<tr>\n",
       "  <th>day Var</th>           <td>0.013</td>   <td>0.002</td>      <td></td>       <td></td>       <td></td>       <td></td>   \n",
       "</tr>\n",
       "</table>"
      ],
      "text/plain": [
       "<class 'statsmodels.iolib.summary2.Summary'>\n",
       "\"\"\"\n",
       "            Mixed Linear Model Regression Results\n",
       "==============================================================\n",
       "Model:            MixedLM Dependent Variable: main_sleep_onset\n",
       "No. Observations: 60532   Method:             REML            \n",
       "No. Groups:       911     Scale:              2.3254          \n",
       "Min. group size:  1       Likelihood:         -111594.3765    \n",
       "Max. group size:  152     Converged:          Yes             \n",
       "Mean group size:  66.4                                        \n",
       "--------------------------------------------------------------\n",
       "                  Coef.  Std.Err.    z     P>|z| [0.025 0.975]\n",
       "--------------------------------------------------------------\n",
       "Intercept         23.286    0.020 1155.397 0.000 23.247 23.326\n",
       "sex[T.Male]        0.063    0.013    5.046 0.000  0.039  0.088\n",
       "day_of_week[T.1]   0.056    0.028    2.030 0.042  0.002  0.110\n",
       "day_of_week[T.2]   0.077    0.028    2.796 0.005  0.023  0.131\n",
       "day_of_week[T.3]   0.113    0.028    4.097 0.000  0.059  0.168\n",
       "day_of_week[T.4]   0.240    0.028    8.651 0.000  0.185  0.294\n",
       "day_of_week[T.5]   0.328    0.028   11.876 0.000  0.274  0.382\n",
       "day_of_week[T.6]   0.016    0.028    0.578 0.563 -0.038  0.070\n",
       "day Var            0.013    0.002                             \n",
       "==============================================================\n",
       "\n",
       "\"\"\""
      ]
     },
     "execution_count": 56,
     "metadata": {},
     "output_type": "execute_result"
    }
   ],
   "source": [
    "fit.summary()"
   ]
  },
  {
   "cell_type": "code",
   "execution_count": 65,
   "metadata": {},
   "outputs": [
    {
     "data": {
      "text/html": [
       "<table class=\"simpletable\">\n",
       "<caption>OLS Regression Results</caption>\n",
       "<tr>\n",
       "  <th>Dep. Variable:</th>       <td>num_wakings</td>   <th>  R-squared:         </th> <td>   0.008</td> \n",
       "</tr>\n",
       "<tr>\n",
       "  <th>Model:</th>                   <td>OLS</td>       <th>  Adj. R-squared:    </th> <td>   0.007</td> \n",
       "</tr>\n",
       "<tr>\n",
       "  <th>Method:</th>             <td>Least Squares</td>  <th>  F-statistic:       </th> <td>   10.72</td> \n",
       "</tr>\n",
       "<tr>\n",
       "  <th>Date:</th>             <td>Tue, 05 Nov 2019</td> <th>  Prob (F-statistic):</th> <td>1.60e-13</td> \n",
       "</tr>\n",
       "<tr>\n",
       "  <th>Time:</th>                 <td>14:14:23</td>     <th>  Log-Likelihood:    </th> <td> -18640.</td> \n",
       "</tr>\n",
       "<tr>\n",
       "  <th>No. Observations:</th>      <td>  9540</td>      <th>  AIC:               </th> <td>3.730e+04</td>\n",
       "</tr>\n",
       "<tr>\n",
       "  <th>Df Residuals:</th>          <td>  9532</td>      <th>  BIC:               </th> <td>3.735e+04</td>\n",
       "</tr>\n",
       "<tr>\n",
       "  <th>Df Model:</th>              <td>     7</td>      <th>                     </th>     <td> </td>    \n",
       "</tr>\n",
       "<tr>\n",
       "  <th>Covariance Type:</th>      <td>nonrobust</td>    <th>                     </th>     <td> </td>    \n",
       "</tr>\n",
       "</table>\n",
       "<table class=\"simpletable\">\n",
       "<tr>\n",
       "          <td></td>            <th>coef</th>     <th>std err</th>      <th>t</th>      <th>P>|t|</th>  <th>[0.025</th>    <th>0.975]</th>  \n",
       "</tr>\n",
       "<tr>\n",
       "  <th>Intercept</th>        <td>    1.1588</td> <td>    0.044</td> <td>   26.547</td> <td> 0.000</td> <td>    1.073</td> <td>    1.244</td>\n",
       "</tr>\n",
       "<tr>\n",
       "  <th>sex[T.Male]</th>      <td>    0.2528</td> <td>    0.035</td> <td>    7.153</td> <td> 0.000</td> <td>    0.183</td> <td>    0.322</td>\n",
       "</tr>\n",
       "<tr>\n",
       "  <th>day_of_week[T.1]</th> <td>    0.0897</td> <td>    0.105</td> <td>    0.853</td> <td> 0.394</td> <td>   -0.117</td> <td>    0.296</td>\n",
       "</tr>\n",
       "<tr>\n",
       "  <th>day_of_week[T.2]</th> <td>   -0.0112</td> <td>    0.060</td> <td>   -0.187</td> <td> 0.851</td> <td>   -0.128</td> <td>    0.106</td>\n",
       "</tr>\n",
       "<tr>\n",
       "  <th>day_of_week[T.3]</th> <td>   -0.0484</td> <td>    0.059</td> <td>   -0.815</td> <td> 0.415</td> <td>   -0.165</td> <td>    0.068</td>\n",
       "</tr>\n",
       "<tr>\n",
       "  <th>day_of_week[T.4]</th> <td>    0.1140</td> <td>    0.056</td> <td>    2.052</td> <td> 0.040</td> <td>    0.005</td> <td>    0.223</td>\n",
       "</tr>\n",
       "<tr>\n",
       "  <th>day_of_week[T.5]</th> <td>    0.1847</td> <td>    0.055</td> <td>    3.332</td> <td> 0.001</td> <td>    0.076</td> <td>    0.293</td>\n",
       "</tr>\n",
       "<tr>\n",
       "  <th>day_of_week[T.6]</th> <td>    0.1244</td> <td>    0.128</td> <td>    0.969</td> <td> 0.333</td> <td>   -0.127</td> <td>    0.376</td>\n",
       "</tr>\n",
       "</table>\n",
       "<table class=\"simpletable\">\n",
       "<tr>\n",
       "  <th>Omnibus:</th>       <td>8900.467</td> <th>  Durbin-Watson:     </th>  <td>   1.966</td> \n",
       "</tr>\n",
       "<tr>\n",
       "  <th>Prob(Omnibus):</th>  <td> 0.000</td>  <th>  Jarque-Bera (JB):  </th> <td>875006.413</td>\n",
       "</tr>\n",
       "<tr>\n",
       "  <th>Skew:</th>           <td> 4.175</td>  <th>  Prob(JB):          </th>  <td>    0.00</td> \n",
       "</tr>\n",
       "<tr>\n",
       "  <th>Kurtosis:</th>       <td>49.169</td>  <th>  Cond. No.          </th>  <td>    9.37</td> \n",
       "</tr>\n",
       "</table><br/><br/>Warnings:<br/>[1] Standard Errors assume that the covariance matrix of the errors is correctly specified."
      ],
      "text/plain": [
       "<class 'statsmodels.iolib.summary.Summary'>\n",
       "\"\"\"\n",
       "                            OLS Regression Results                            \n",
       "==============================================================================\n",
       "Dep. Variable:            num_wakings   R-squared:                       0.008\n",
       "Model:                            OLS   Adj. R-squared:                  0.007\n",
       "Method:                 Least Squares   F-statistic:                     10.72\n",
       "Date:                Tue, 05 Nov 2019   Prob (F-statistic):           1.60e-13\n",
       "Time:                        14:14:23   Log-Likelihood:                -18640.\n",
       "No. Observations:                9540   AIC:                         3.730e+04\n",
       "Df Residuals:                    9532   BIC:                         3.735e+04\n",
       "Df Model:                           7                                         \n",
       "Covariance Type:            nonrobust                                         \n",
       "====================================================================================\n",
       "                       coef    std err          t      P>|t|      [0.025      0.975]\n",
       "------------------------------------------------------------------------------------\n",
       "Intercept            1.1588      0.044     26.547      0.000       1.073       1.244\n",
       "sex[T.Male]          0.2528      0.035      7.153      0.000       0.183       0.322\n",
       "day_of_week[T.1]     0.0897      0.105      0.853      0.394      -0.117       0.296\n",
       "day_of_week[T.2]    -0.0112      0.060     -0.187      0.851      -0.128       0.106\n",
       "day_of_week[T.3]    -0.0484      0.059     -0.815      0.415      -0.165       0.068\n",
       "day_of_week[T.4]     0.1140      0.056      2.052      0.040       0.005       0.223\n",
       "day_of_week[T.5]     0.1847      0.055      3.332      0.001       0.076       0.293\n",
       "day_of_week[T.6]     0.1244      0.128      0.969      0.333      -0.127       0.376\n",
       "==============================================================================\n",
       "Omnibus:                     8900.467   Durbin-Watson:                   1.966\n",
       "Prob(Omnibus):                  0.000   Jarque-Bera (JB):           875006.413\n",
       "Skew:                           4.175   Prob(JB):                         0.00\n",
       "Kurtosis:                      49.169   Cond. No.                         9.37\n",
       "==============================================================================\n",
       "\n",
       "Warnings:\n",
       "[1] Standard Errors assume that the covariance matrix of the errors is correctly specified.\n",
       "\"\"\""
      ]
     },
     "execution_count": 65,
     "metadata": {},
     "output_type": "execute_result"
    }
   ],
   "source": [
    "smf.ols(\"num_wakings ~ sex + day_of_week\", data=data.drop_duplicates(\"ID\"), missing=\"drop\").fit().summary()"
   ]
  },
  {
   "cell_type": "code",
   "execution_count": 49,
   "metadata": {},
   "outputs": [
    {
     "data": {
      "text/plain": [
       "Int64Index([0, 1, 2, 5, 6, 0, 1, 2, 3, 4,\n",
       "            ...\n",
       "            1, 2, 3, 4, 1, 2, 3, 4, 5, 6],\n",
       "           dtype='int64', length=63728)"
      ]
     },
     "execution_count": 49,
     "metadata": {},
     "output_type": "execute_result"
    }
   ],
   "source": []
  },
  {
   "cell_type": "code",
   "execution_count": null,
   "metadata": {},
   "outputs": [],
   "source": []
  }
 ],
 "metadata": {
  "kernelspec": {
   "display_name": "Python 3",
   "language": "python",
   "name": "python3"
  },
  "language_info": {
   "codemirror_mode": {
    "name": "ipython",
    "version": 3
   },
   "file_extension": ".py",
   "mimetype": "text/x-python",
   "name": "python",
   "nbconvert_exporter": "python",
   "pygments_lexer": "ipython3",
   "version": "3.6.6"
  }
 },
 "nbformat": 4,
 "nbformat_minor": 2
}
